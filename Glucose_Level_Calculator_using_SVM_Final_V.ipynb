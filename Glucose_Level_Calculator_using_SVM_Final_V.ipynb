{
  "nbformat": 4,
  "nbformat_minor": 0,
  "metadata": {
    "colab": {
      "provenance": [],
      "collapsed_sections": []
    },
    "kernelspec": {
      "name": "python3",
      "display_name": "Python 3"
    },
    "language_info": {
      "name": "python"
    }
  },
  "cells": [
    {
      "cell_type": "code",
      "execution_count": 1,
      "metadata": {
        "id": "qHXQOJX7Hk39"
      },
      "outputs": [],
      "source": [
        "import pandas as pd"
      ]
    },
    {
      "cell_type": "code",
      "source": [
        "import numpy as np"
      ],
      "metadata": {
        "id": "ouZU4rxjHndS"
      },
      "execution_count": 2,
      "outputs": []
    },
    {
      "cell_type": "code",
      "source": [
        "file = pd.read_csv('https://docs.google.com/spreadsheets/d/e/2PACX-1vQRp2K84U9vl_vDKZMWfrh8Sx7R628KOJvTKiOMyaS3BP60rrr0XtnxyvWkm7QsNg/pub?output=csv')"
      ],
      "metadata": {
        "id": "VNpjXxElHowS"
      },
      "execution_count": 4,
      "outputs": []
    },
    {
      "cell_type": "code",
      "source": [
        "file.head()"
      ],
      "metadata": {
        "colab": {
          "base_uri": "https://localhost:8080/",
          "height": 285
        },
        "id": "LmrEO_AsHzgc",
        "outputId": "1119cdae-e9f0-4179-e400-b39a0808f6ac"
      },
      "execution_count": 5,
      "outputs": [
        {
          "output_type": "execute_result",
          "data": {
            "text/plain": [
              "   Dataset for People for their Blood Glucose Level with their Superficial Body Feature readings. Age  \\\n",
              "0                                                  9                                                    \n",
              "1                                                  9                                                    \n",
              "2                                                  9                                                    \n",
              "3                                                  9                                                    \n",
              "4                                                 66                                                    \n",
              "\n",
              "   Blood Glucose Level(BGL)  Diastolic Blood Pressure  \\\n",
              "0                        79                        73   \n",
              "1                        80                        73   \n",
              "2                        70                        76   \n",
              "3                        70                        78   \n",
              "4                       100                        96   \n",
              "\n",
              "   Systolic Blood Pressure  Heart Rate  Body Temperature  SPO2  \\\n",
              "0                      118          98         98.300707    99   \n",
              "1                      119         102         98.300707    94   \n",
              "2                      110          81         98.300707    98   \n",
              "3                      115          96         98.300707    96   \n",
              "4                      144          92         97.807052    98   \n",
              "\n",
              "   Sweating  (Y/N)  Shivering (Y/N) Diabetic/NonDiabetic (D/N)  \n",
              "0                0                0                          N  \n",
              "1                1                0                          N  \n",
              "2                1                0                          N  \n",
              "3                1                0                          N  \n",
              "4                0                0                          N  "
            ],
            "text/html": [
              "\n",
              "  <div id=\"df-82601b8c-c4fc-427f-8fb3-25cfa11fde4f\">\n",
              "    <div class=\"colab-df-container\">\n",
              "      <div>\n",
              "<style scoped>\n",
              "    .dataframe tbody tr th:only-of-type {\n",
              "        vertical-align: middle;\n",
              "    }\n",
              "\n",
              "    .dataframe tbody tr th {\n",
              "        vertical-align: top;\n",
              "    }\n",
              "\n",
              "    .dataframe thead th {\n",
              "        text-align: right;\n",
              "    }\n",
              "</style>\n",
              "<table border=\"1\" class=\"dataframe\">\n",
              "  <thead>\n",
              "    <tr style=\"text-align: right;\">\n",
              "      <th></th>\n",
              "      <th>Dataset for People for their Blood Glucose Level with their Superficial Body Feature readings. Age</th>\n",
              "      <th>Blood Glucose Level(BGL)</th>\n",
              "      <th>Diastolic Blood Pressure</th>\n",
              "      <th>Systolic Blood Pressure</th>\n",
              "      <th>Heart Rate</th>\n",
              "      <th>Body Temperature</th>\n",
              "      <th>SPO2</th>\n",
              "      <th>Sweating  (Y/N)</th>\n",
              "      <th>Shivering (Y/N)</th>\n",
              "      <th>Diabetic/NonDiabetic (D/N)</th>\n",
              "    </tr>\n",
              "  </thead>\n",
              "  <tbody>\n",
              "    <tr>\n",
              "      <th>0</th>\n",
              "      <td>9</td>\n",
              "      <td>79</td>\n",
              "      <td>73</td>\n",
              "      <td>118</td>\n",
              "      <td>98</td>\n",
              "      <td>98.300707</td>\n",
              "      <td>99</td>\n",
              "      <td>0</td>\n",
              "      <td>0</td>\n",
              "      <td>N</td>\n",
              "    </tr>\n",
              "    <tr>\n",
              "      <th>1</th>\n",
              "      <td>9</td>\n",
              "      <td>80</td>\n",
              "      <td>73</td>\n",
              "      <td>119</td>\n",
              "      <td>102</td>\n",
              "      <td>98.300707</td>\n",
              "      <td>94</td>\n",
              "      <td>1</td>\n",
              "      <td>0</td>\n",
              "      <td>N</td>\n",
              "    </tr>\n",
              "    <tr>\n",
              "      <th>2</th>\n",
              "      <td>9</td>\n",
              "      <td>70</td>\n",
              "      <td>76</td>\n",
              "      <td>110</td>\n",
              "      <td>81</td>\n",
              "      <td>98.300707</td>\n",
              "      <td>98</td>\n",
              "      <td>1</td>\n",
              "      <td>0</td>\n",
              "      <td>N</td>\n",
              "    </tr>\n",
              "    <tr>\n",
              "      <th>3</th>\n",
              "      <td>9</td>\n",
              "      <td>70</td>\n",
              "      <td>78</td>\n",
              "      <td>115</td>\n",
              "      <td>96</td>\n",
              "      <td>98.300707</td>\n",
              "      <td>96</td>\n",
              "      <td>1</td>\n",
              "      <td>0</td>\n",
              "      <td>N</td>\n",
              "    </tr>\n",
              "    <tr>\n",
              "      <th>4</th>\n",
              "      <td>66</td>\n",
              "      <td>100</td>\n",
              "      <td>96</td>\n",
              "      <td>144</td>\n",
              "      <td>92</td>\n",
              "      <td>97.807052</td>\n",
              "      <td>98</td>\n",
              "      <td>0</td>\n",
              "      <td>0</td>\n",
              "      <td>N</td>\n",
              "    </tr>\n",
              "  </tbody>\n",
              "</table>\n",
              "</div>\n",
              "      <button class=\"colab-df-convert\" onclick=\"convertToInteractive('df-82601b8c-c4fc-427f-8fb3-25cfa11fde4f')\"\n",
              "              title=\"Convert this dataframe to an interactive table.\"\n",
              "              style=\"display:none;\">\n",
              "        \n",
              "  <svg xmlns=\"http://www.w3.org/2000/svg\" height=\"24px\"viewBox=\"0 0 24 24\"\n",
              "       width=\"24px\">\n",
              "    <path d=\"M0 0h24v24H0V0z\" fill=\"none\"/>\n",
              "    <path d=\"M18.56 5.44l.94 2.06.94-2.06 2.06-.94-2.06-.94-.94-2.06-.94 2.06-2.06.94zm-11 1L8.5 8.5l.94-2.06 2.06-.94-2.06-.94L8.5 2.5l-.94 2.06-2.06.94zm10 10l.94 2.06.94-2.06 2.06-.94-2.06-.94-.94-2.06-.94 2.06-2.06.94z\"/><path d=\"M17.41 7.96l-1.37-1.37c-.4-.4-.92-.59-1.43-.59-.52 0-1.04.2-1.43.59L10.3 9.45l-7.72 7.72c-.78.78-.78 2.05 0 2.83L4 21.41c.39.39.9.59 1.41.59.51 0 1.02-.2 1.41-.59l7.78-7.78 2.81-2.81c.8-.78.8-2.07 0-2.86zM5.41 20L4 18.59l7.72-7.72 1.47 1.35L5.41 20z\"/>\n",
              "  </svg>\n",
              "      </button>\n",
              "      \n",
              "  <style>\n",
              "    .colab-df-container {\n",
              "      display:flex;\n",
              "      flex-wrap:wrap;\n",
              "      gap: 12px;\n",
              "    }\n",
              "\n",
              "    .colab-df-convert {\n",
              "      background-color: #E8F0FE;\n",
              "      border: none;\n",
              "      border-radius: 50%;\n",
              "      cursor: pointer;\n",
              "      display: none;\n",
              "      fill: #1967D2;\n",
              "      height: 32px;\n",
              "      padding: 0 0 0 0;\n",
              "      width: 32px;\n",
              "    }\n",
              "\n",
              "    .colab-df-convert:hover {\n",
              "      background-color: #E2EBFA;\n",
              "      box-shadow: 0px 1px 2px rgba(60, 64, 67, 0.3), 0px 1px 3px 1px rgba(60, 64, 67, 0.15);\n",
              "      fill: #174EA6;\n",
              "    }\n",
              "\n",
              "    [theme=dark] .colab-df-convert {\n",
              "      background-color: #3B4455;\n",
              "      fill: #D2E3FC;\n",
              "    }\n",
              "\n",
              "    [theme=dark] .colab-df-convert:hover {\n",
              "      background-color: #434B5C;\n",
              "      box-shadow: 0px 1px 3px 1px rgba(0, 0, 0, 0.15);\n",
              "      filter: drop-shadow(0px 1px 2px rgba(0, 0, 0, 0.3));\n",
              "      fill: #FFFFFF;\n",
              "    }\n",
              "  </style>\n",
              "\n",
              "      <script>\n",
              "        const buttonEl =\n",
              "          document.querySelector('#df-82601b8c-c4fc-427f-8fb3-25cfa11fde4f button.colab-df-convert');\n",
              "        buttonEl.style.display =\n",
              "          google.colab.kernel.accessAllowed ? 'block' : 'none';\n",
              "\n",
              "        async function convertToInteractive(key) {\n",
              "          const element = document.querySelector('#df-82601b8c-c4fc-427f-8fb3-25cfa11fde4f');\n",
              "          const dataTable =\n",
              "            await google.colab.kernel.invokeFunction('convertToInteractive',\n",
              "                                                     [key], {});\n",
              "          if (!dataTable) return;\n",
              "\n",
              "          const docLinkHtml = 'Like what you see? Visit the ' +\n",
              "            '<a target=\"_blank\" href=https://colab.research.google.com/notebooks/data_table.ipynb>data table notebook</a>'\n",
              "            + ' to learn more about interactive tables.';\n",
              "          element.innerHTML = '';\n",
              "          dataTable['output_type'] = 'display_data';\n",
              "          await google.colab.output.renderOutput(dataTable, element);\n",
              "          const docLink = document.createElement('div');\n",
              "          docLink.innerHTML = docLinkHtml;\n",
              "          element.appendChild(docLink);\n",
              "        }\n",
              "      </script>\n",
              "    </div>\n",
              "  </div>\n",
              "  "
            ]
          },
          "metadata": {},
          "execution_count": 5
        }
      ]
    },
    {
      "cell_type": "code",
      "source": [
        "file.describe()"
      ],
      "metadata": {
        "colab": {
          "base_uri": "https://localhost:8080/",
          "height": 379
        },
        "id": "zqrXg4ZrH23i",
        "outputId": "e169b394-4c78-4d58-e568-ff7c8724f4bd"
      },
      "execution_count": 6,
      "outputs": [
        {
          "output_type": "execute_result",
          "data": {
            "text/plain": [
              "       Dataset for People for their Blood Glucose Level with their Superficial Body Feature readings. Age  \\\n",
              "count                                       16969.000000                                                    \n",
              "mean                                           30.988862                                                    \n",
              "std                                            25.585606                                                    \n",
              "min                                             9.000000                                                    \n",
              "25%                                             9.000000                                                    \n",
              "50%                                            14.000000                                                    \n",
              "75%                                            55.000000                                                    \n",
              "max                                            77.000000                                                    \n",
              "\n",
              "       Blood Glucose Level(BGL)  Diastolic Blood Pressure  \\\n",
              "count              16969.000000              16969.000000   \n",
              "mean                  95.733455                 77.173493   \n",
              "std                   42.990277                  7.241511   \n",
              "min                   50.000000                 60.000000   \n",
              "25%                   68.000000                 71.000000   \n",
              "50%                   83.000000                 76.000000   \n",
              "75%                  108.000000                 83.000000   \n",
              "max                  250.000000                 98.000000   \n",
              "\n",
              "       Systolic Blood Pressure    Heart Rate  Body Temperature          SPO2  \\\n",
              "count             16969.000000  16969.000000      16969.000000  16969.000000   \n",
              "mean                118.187165     91.524191         97.356146     97.382403   \n",
              "std                   7.700363     10.409780          0.813555      0.848689   \n",
              "min                  95.000000     78.000000         96.000132     93.000000   \n",
              "25%                 113.000000     84.000000         96.674465     97.000000   \n",
              "50%                 119.000000     89.000000         97.326523     98.000000   \n",
              "75%                 124.000000     95.000000         97.949904     98.000000   \n",
              "max                 145.000000    130.000000         98.999792     99.000000   \n",
              "\n",
              "       Sweating  (Y/N)  Shivering (Y/N)  \n",
              "count     16969.000000     16969.000000  \n",
              "mean          0.121692         0.145560  \n",
              "std           0.326940         0.352674  \n",
              "min           0.000000         0.000000  \n",
              "25%           0.000000         0.000000  \n",
              "50%           0.000000         0.000000  \n",
              "75%           0.000000         0.000000  \n",
              "max           1.000000         1.000000  "
            ],
            "text/html": [
              "\n",
              "  <div id=\"df-7663d4a8-393c-4f31-b52f-5a3970f54c77\">\n",
              "    <div class=\"colab-df-container\">\n",
              "      <div>\n",
              "<style scoped>\n",
              "    .dataframe tbody tr th:only-of-type {\n",
              "        vertical-align: middle;\n",
              "    }\n",
              "\n",
              "    .dataframe tbody tr th {\n",
              "        vertical-align: top;\n",
              "    }\n",
              "\n",
              "    .dataframe thead th {\n",
              "        text-align: right;\n",
              "    }\n",
              "</style>\n",
              "<table border=\"1\" class=\"dataframe\">\n",
              "  <thead>\n",
              "    <tr style=\"text-align: right;\">\n",
              "      <th></th>\n",
              "      <th>Dataset for People for their Blood Glucose Level with their Superficial Body Feature readings. Age</th>\n",
              "      <th>Blood Glucose Level(BGL)</th>\n",
              "      <th>Diastolic Blood Pressure</th>\n",
              "      <th>Systolic Blood Pressure</th>\n",
              "      <th>Heart Rate</th>\n",
              "      <th>Body Temperature</th>\n",
              "      <th>SPO2</th>\n",
              "      <th>Sweating  (Y/N)</th>\n",
              "      <th>Shivering (Y/N)</th>\n",
              "    </tr>\n",
              "  </thead>\n",
              "  <tbody>\n",
              "    <tr>\n",
              "      <th>count</th>\n",
              "      <td>16969.000000</td>\n",
              "      <td>16969.000000</td>\n",
              "      <td>16969.000000</td>\n",
              "      <td>16969.000000</td>\n",
              "      <td>16969.000000</td>\n",
              "      <td>16969.000000</td>\n",
              "      <td>16969.000000</td>\n",
              "      <td>16969.000000</td>\n",
              "      <td>16969.000000</td>\n",
              "    </tr>\n",
              "    <tr>\n",
              "      <th>mean</th>\n",
              "      <td>30.988862</td>\n",
              "      <td>95.733455</td>\n",
              "      <td>77.173493</td>\n",
              "      <td>118.187165</td>\n",
              "      <td>91.524191</td>\n",
              "      <td>97.356146</td>\n",
              "      <td>97.382403</td>\n",
              "      <td>0.121692</td>\n",
              "      <td>0.145560</td>\n",
              "    </tr>\n",
              "    <tr>\n",
              "      <th>std</th>\n",
              "      <td>25.585606</td>\n",
              "      <td>42.990277</td>\n",
              "      <td>7.241511</td>\n",
              "      <td>7.700363</td>\n",
              "      <td>10.409780</td>\n",
              "      <td>0.813555</td>\n",
              "      <td>0.848689</td>\n",
              "      <td>0.326940</td>\n",
              "      <td>0.352674</td>\n",
              "    </tr>\n",
              "    <tr>\n",
              "      <th>min</th>\n",
              "      <td>9.000000</td>\n",
              "      <td>50.000000</td>\n",
              "      <td>60.000000</td>\n",
              "      <td>95.000000</td>\n",
              "      <td>78.000000</td>\n",
              "      <td>96.000132</td>\n",
              "      <td>93.000000</td>\n",
              "      <td>0.000000</td>\n",
              "      <td>0.000000</td>\n",
              "    </tr>\n",
              "    <tr>\n",
              "      <th>25%</th>\n",
              "      <td>9.000000</td>\n",
              "      <td>68.000000</td>\n",
              "      <td>71.000000</td>\n",
              "      <td>113.000000</td>\n",
              "      <td>84.000000</td>\n",
              "      <td>96.674465</td>\n",
              "      <td>97.000000</td>\n",
              "      <td>0.000000</td>\n",
              "      <td>0.000000</td>\n",
              "    </tr>\n",
              "    <tr>\n",
              "      <th>50%</th>\n",
              "      <td>14.000000</td>\n",
              "      <td>83.000000</td>\n",
              "      <td>76.000000</td>\n",
              "      <td>119.000000</td>\n",
              "      <td>89.000000</td>\n",
              "      <td>97.326523</td>\n",
              "      <td>98.000000</td>\n",
              "      <td>0.000000</td>\n",
              "      <td>0.000000</td>\n",
              "    </tr>\n",
              "    <tr>\n",
              "      <th>75%</th>\n",
              "      <td>55.000000</td>\n",
              "      <td>108.000000</td>\n",
              "      <td>83.000000</td>\n",
              "      <td>124.000000</td>\n",
              "      <td>95.000000</td>\n",
              "      <td>97.949904</td>\n",
              "      <td>98.000000</td>\n",
              "      <td>0.000000</td>\n",
              "      <td>0.000000</td>\n",
              "    </tr>\n",
              "    <tr>\n",
              "      <th>max</th>\n",
              "      <td>77.000000</td>\n",
              "      <td>250.000000</td>\n",
              "      <td>98.000000</td>\n",
              "      <td>145.000000</td>\n",
              "      <td>130.000000</td>\n",
              "      <td>98.999792</td>\n",
              "      <td>99.000000</td>\n",
              "      <td>1.000000</td>\n",
              "      <td>1.000000</td>\n",
              "    </tr>\n",
              "  </tbody>\n",
              "</table>\n",
              "</div>\n",
              "      <button class=\"colab-df-convert\" onclick=\"convertToInteractive('df-7663d4a8-393c-4f31-b52f-5a3970f54c77')\"\n",
              "              title=\"Convert this dataframe to an interactive table.\"\n",
              "              style=\"display:none;\">\n",
              "        \n",
              "  <svg xmlns=\"http://www.w3.org/2000/svg\" height=\"24px\"viewBox=\"0 0 24 24\"\n",
              "       width=\"24px\">\n",
              "    <path d=\"M0 0h24v24H0V0z\" fill=\"none\"/>\n",
              "    <path d=\"M18.56 5.44l.94 2.06.94-2.06 2.06-.94-2.06-.94-.94-2.06-.94 2.06-2.06.94zm-11 1L8.5 8.5l.94-2.06 2.06-.94-2.06-.94L8.5 2.5l-.94 2.06-2.06.94zm10 10l.94 2.06.94-2.06 2.06-.94-2.06-.94-.94-2.06-.94 2.06-2.06.94z\"/><path d=\"M17.41 7.96l-1.37-1.37c-.4-.4-.92-.59-1.43-.59-.52 0-1.04.2-1.43.59L10.3 9.45l-7.72 7.72c-.78.78-.78 2.05 0 2.83L4 21.41c.39.39.9.59 1.41.59.51 0 1.02-.2 1.41-.59l7.78-7.78 2.81-2.81c.8-.78.8-2.07 0-2.86zM5.41 20L4 18.59l7.72-7.72 1.47 1.35L5.41 20z\"/>\n",
              "  </svg>\n",
              "      </button>\n",
              "      \n",
              "  <style>\n",
              "    .colab-df-container {\n",
              "      display:flex;\n",
              "      flex-wrap:wrap;\n",
              "      gap: 12px;\n",
              "    }\n",
              "\n",
              "    .colab-df-convert {\n",
              "      background-color: #E8F0FE;\n",
              "      border: none;\n",
              "      border-radius: 50%;\n",
              "      cursor: pointer;\n",
              "      display: none;\n",
              "      fill: #1967D2;\n",
              "      height: 32px;\n",
              "      padding: 0 0 0 0;\n",
              "      width: 32px;\n",
              "    }\n",
              "\n",
              "    .colab-df-convert:hover {\n",
              "      background-color: #E2EBFA;\n",
              "      box-shadow: 0px 1px 2px rgba(60, 64, 67, 0.3), 0px 1px 3px 1px rgba(60, 64, 67, 0.15);\n",
              "      fill: #174EA6;\n",
              "    }\n",
              "\n",
              "    [theme=dark] .colab-df-convert {\n",
              "      background-color: #3B4455;\n",
              "      fill: #D2E3FC;\n",
              "    }\n",
              "\n",
              "    [theme=dark] .colab-df-convert:hover {\n",
              "      background-color: #434B5C;\n",
              "      box-shadow: 0px 1px 3px 1px rgba(0, 0, 0, 0.15);\n",
              "      filter: drop-shadow(0px 1px 2px rgba(0, 0, 0, 0.3));\n",
              "      fill: #FFFFFF;\n",
              "    }\n",
              "  </style>\n",
              "\n",
              "      <script>\n",
              "        const buttonEl =\n",
              "          document.querySelector('#df-7663d4a8-393c-4f31-b52f-5a3970f54c77 button.colab-df-convert');\n",
              "        buttonEl.style.display =\n",
              "          google.colab.kernel.accessAllowed ? 'block' : 'none';\n",
              "\n",
              "        async function convertToInteractive(key) {\n",
              "          const element = document.querySelector('#df-7663d4a8-393c-4f31-b52f-5a3970f54c77');\n",
              "          const dataTable =\n",
              "            await google.colab.kernel.invokeFunction('convertToInteractive',\n",
              "                                                     [key], {});\n",
              "          if (!dataTable) return;\n",
              "\n",
              "          const docLinkHtml = 'Like what you see? Visit the ' +\n",
              "            '<a target=\"_blank\" href=https://colab.research.google.com/notebooks/data_table.ipynb>data table notebook</a>'\n",
              "            + ' to learn more about interactive tables.';\n",
              "          element.innerHTML = '';\n",
              "          dataTable['output_type'] = 'display_data';\n",
              "          await google.colab.output.renderOutput(dataTable, element);\n",
              "          const docLink = document.createElement('div');\n",
              "          docLink.innerHTML = docLinkHtml;\n",
              "          element.appendChild(docLink);\n",
              "        }\n",
              "      </script>\n",
              "    </div>\n",
              "  </div>\n",
              "  "
            ]
          },
          "metadata": {},
          "execution_count": 6
        }
      ]
    },
    {
      "cell_type": "code",
      "source": [
        "file.isna().sum()"
      ],
      "metadata": {
        "colab": {
          "base_uri": "https://localhost:8080/"
        },
        "id": "a7isjLB7H3_P",
        "outputId": "f837e4f2-31a5-46b8-852c-eba9292ccfb7"
      },
      "execution_count": 7,
      "outputs": [
        {
          "output_type": "execute_result",
          "data": {
            "text/plain": [
              "Dataset for People for their Blood Glucose Level with their Superficial Body Feature readings. Age    0\n",
              "Blood Glucose Level(BGL)                                                                              0\n",
              "Diastolic Blood Pressure                                                                              0\n",
              "Systolic Blood Pressure                                                                               0\n",
              "Heart Rate                                                                                            0\n",
              "Body Temperature                                                                                      0\n",
              "SPO2                                                                                                  0\n",
              "Sweating  (Y/N)                                                                                       0\n",
              "Shivering (Y/N)                                                                                       0\n",
              "Diabetic/NonDiabetic (D/N)                                                                            0\n",
              "dtype: int64"
            ]
          },
          "metadata": {},
          "execution_count": 7
        }
      ]
    },
    {
      "cell_type": "code",
      "source": [
        "file.isnull().sum()"
      ],
      "metadata": {
        "colab": {
          "base_uri": "https://localhost:8080/"
        },
        "id": "H2ABMi8PH6VT",
        "outputId": "54ce30d2-cb6d-42ca-ead1-3b1a6432fa3c"
      },
      "execution_count": 8,
      "outputs": [
        {
          "output_type": "execute_result",
          "data": {
            "text/plain": [
              "Dataset for People for their Blood Glucose Level with their Superficial Body Feature readings. Age    0\n",
              "Blood Glucose Level(BGL)                                                                              0\n",
              "Diastolic Blood Pressure                                                                              0\n",
              "Systolic Blood Pressure                                                                               0\n",
              "Heart Rate                                                                                            0\n",
              "Body Temperature                                                                                      0\n",
              "SPO2                                                                                                  0\n",
              "Sweating  (Y/N)                                                                                       0\n",
              "Shivering (Y/N)                                                                                       0\n",
              "Diabetic/NonDiabetic (D/N)                                                                            0\n",
              "dtype: int64"
            ]
          },
          "metadata": {},
          "execution_count": 8
        }
      ]
    },
    {
      "cell_type": "code",
      "source": [
        "features = file.rename(\n",
        "    columns = {\n",
        "        \"Dataset for People for their Blood Glucose Level with their Superficial Body Feature readings. Age\" : \"Age\",\n",
        "        \"Blood Glucose Level(BGL)\" : \"Glucose\",\n",
        "        \"Diastolic Blood Pressure\" : \"Diastolic_BP\",\n",
        "        \"Systolic Blood Pressure\" : \"Systolic_BP\",\n",
        "        \"Sweating  (Y/N)\" : \"Sweating\",\n",
        "        \"Shivering (Y/N)\" : \"Shivering\",\n",
        "        \"Diabetic/NonDiabetic (D/N)\" : \"DiaOrNot\"\n",
        "    }\n",
        ")"
      ],
      "metadata": {
        "id": "qJQuoGfKH8dc"
      },
      "execution_count": 9,
      "outputs": []
    },
    {
      "cell_type": "code",
      "source": [
        "features.head()"
      ],
      "metadata": {
        "colab": {
          "base_uri": "https://localhost:8080/",
          "height": 206
        },
        "id": "RP7dIvi4Icr3",
        "outputId": "a56cb468-29a6-4131-dd1c-b8b1951a0d8d"
      },
      "execution_count": 10,
      "outputs": [
        {
          "output_type": "execute_result",
          "data": {
            "text/plain": [
              "   Age  Glucose  Diastolic_BP  Systolic_BP  Heart Rate  Body Temperature  \\\n",
              "0    9       79            73          118          98         98.300707   \n",
              "1    9       80            73          119         102         98.300707   \n",
              "2    9       70            76          110          81         98.300707   \n",
              "3    9       70            78          115          96         98.300707   \n",
              "4   66      100            96          144          92         97.807052   \n",
              "\n",
              "   SPO2  Sweating  Shivering DiaOrNot  \n",
              "0    99         0          0        N  \n",
              "1    94         1          0        N  \n",
              "2    98         1          0        N  \n",
              "3    96         1          0        N  \n",
              "4    98         0          0        N  "
            ],
            "text/html": [
              "\n",
              "  <div id=\"df-1458ff96-4f45-4407-af13-6cdaa8e2b745\">\n",
              "    <div class=\"colab-df-container\">\n",
              "      <div>\n",
              "<style scoped>\n",
              "    .dataframe tbody tr th:only-of-type {\n",
              "        vertical-align: middle;\n",
              "    }\n",
              "\n",
              "    .dataframe tbody tr th {\n",
              "        vertical-align: top;\n",
              "    }\n",
              "\n",
              "    .dataframe thead th {\n",
              "        text-align: right;\n",
              "    }\n",
              "</style>\n",
              "<table border=\"1\" class=\"dataframe\">\n",
              "  <thead>\n",
              "    <tr style=\"text-align: right;\">\n",
              "      <th></th>\n",
              "      <th>Age</th>\n",
              "      <th>Glucose</th>\n",
              "      <th>Diastolic_BP</th>\n",
              "      <th>Systolic_BP</th>\n",
              "      <th>Heart Rate</th>\n",
              "      <th>Body Temperature</th>\n",
              "      <th>SPO2</th>\n",
              "      <th>Sweating</th>\n",
              "      <th>Shivering</th>\n",
              "      <th>DiaOrNot</th>\n",
              "    </tr>\n",
              "  </thead>\n",
              "  <tbody>\n",
              "    <tr>\n",
              "      <th>0</th>\n",
              "      <td>9</td>\n",
              "      <td>79</td>\n",
              "      <td>73</td>\n",
              "      <td>118</td>\n",
              "      <td>98</td>\n",
              "      <td>98.300707</td>\n",
              "      <td>99</td>\n",
              "      <td>0</td>\n",
              "      <td>0</td>\n",
              "      <td>N</td>\n",
              "    </tr>\n",
              "    <tr>\n",
              "      <th>1</th>\n",
              "      <td>9</td>\n",
              "      <td>80</td>\n",
              "      <td>73</td>\n",
              "      <td>119</td>\n",
              "      <td>102</td>\n",
              "      <td>98.300707</td>\n",
              "      <td>94</td>\n",
              "      <td>1</td>\n",
              "      <td>0</td>\n",
              "      <td>N</td>\n",
              "    </tr>\n",
              "    <tr>\n",
              "      <th>2</th>\n",
              "      <td>9</td>\n",
              "      <td>70</td>\n",
              "      <td>76</td>\n",
              "      <td>110</td>\n",
              "      <td>81</td>\n",
              "      <td>98.300707</td>\n",
              "      <td>98</td>\n",
              "      <td>1</td>\n",
              "      <td>0</td>\n",
              "      <td>N</td>\n",
              "    </tr>\n",
              "    <tr>\n",
              "      <th>3</th>\n",
              "      <td>9</td>\n",
              "      <td>70</td>\n",
              "      <td>78</td>\n",
              "      <td>115</td>\n",
              "      <td>96</td>\n",
              "      <td>98.300707</td>\n",
              "      <td>96</td>\n",
              "      <td>1</td>\n",
              "      <td>0</td>\n",
              "      <td>N</td>\n",
              "    </tr>\n",
              "    <tr>\n",
              "      <th>4</th>\n",
              "      <td>66</td>\n",
              "      <td>100</td>\n",
              "      <td>96</td>\n",
              "      <td>144</td>\n",
              "      <td>92</td>\n",
              "      <td>97.807052</td>\n",
              "      <td>98</td>\n",
              "      <td>0</td>\n",
              "      <td>0</td>\n",
              "      <td>N</td>\n",
              "    </tr>\n",
              "  </tbody>\n",
              "</table>\n",
              "</div>\n",
              "      <button class=\"colab-df-convert\" onclick=\"convertToInteractive('df-1458ff96-4f45-4407-af13-6cdaa8e2b745')\"\n",
              "              title=\"Convert this dataframe to an interactive table.\"\n",
              "              style=\"display:none;\">\n",
              "        \n",
              "  <svg xmlns=\"http://www.w3.org/2000/svg\" height=\"24px\"viewBox=\"0 0 24 24\"\n",
              "       width=\"24px\">\n",
              "    <path d=\"M0 0h24v24H0V0z\" fill=\"none\"/>\n",
              "    <path d=\"M18.56 5.44l.94 2.06.94-2.06 2.06-.94-2.06-.94-.94-2.06-.94 2.06-2.06.94zm-11 1L8.5 8.5l.94-2.06 2.06-.94-2.06-.94L8.5 2.5l-.94 2.06-2.06.94zm10 10l.94 2.06.94-2.06 2.06-.94-2.06-.94-.94-2.06-.94 2.06-2.06.94z\"/><path d=\"M17.41 7.96l-1.37-1.37c-.4-.4-.92-.59-1.43-.59-.52 0-1.04.2-1.43.59L10.3 9.45l-7.72 7.72c-.78.78-.78 2.05 0 2.83L4 21.41c.39.39.9.59 1.41.59.51 0 1.02-.2 1.41-.59l7.78-7.78 2.81-2.81c.8-.78.8-2.07 0-2.86zM5.41 20L4 18.59l7.72-7.72 1.47 1.35L5.41 20z\"/>\n",
              "  </svg>\n",
              "      </button>\n",
              "      \n",
              "  <style>\n",
              "    .colab-df-container {\n",
              "      display:flex;\n",
              "      flex-wrap:wrap;\n",
              "      gap: 12px;\n",
              "    }\n",
              "\n",
              "    .colab-df-convert {\n",
              "      background-color: #E8F0FE;\n",
              "      border: none;\n",
              "      border-radius: 50%;\n",
              "      cursor: pointer;\n",
              "      display: none;\n",
              "      fill: #1967D2;\n",
              "      height: 32px;\n",
              "      padding: 0 0 0 0;\n",
              "      width: 32px;\n",
              "    }\n",
              "\n",
              "    .colab-df-convert:hover {\n",
              "      background-color: #E2EBFA;\n",
              "      box-shadow: 0px 1px 2px rgba(60, 64, 67, 0.3), 0px 1px 3px 1px rgba(60, 64, 67, 0.15);\n",
              "      fill: #174EA6;\n",
              "    }\n",
              "\n",
              "    [theme=dark] .colab-df-convert {\n",
              "      background-color: #3B4455;\n",
              "      fill: #D2E3FC;\n",
              "    }\n",
              "\n",
              "    [theme=dark] .colab-df-convert:hover {\n",
              "      background-color: #434B5C;\n",
              "      box-shadow: 0px 1px 3px 1px rgba(0, 0, 0, 0.15);\n",
              "      filter: drop-shadow(0px 1px 2px rgba(0, 0, 0, 0.3));\n",
              "      fill: #FFFFFF;\n",
              "    }\n",
              "  </style>\n",
              "\n",
              "      <script>\n",
              "        const buttonEl =\n",
              "          document.querySelector('#df-1458ff96-4f45-4407-af13-6cdaa8e2b745 button.colab-df-convert');\n",
              "        buttonEl.style.display =\n",
              "          google.colab.kernel.accessAllowed ? 'block' : 'none';\n",
              "\n",
              "        async function convertToInteractive(key) {\n",
              "          const element = document.querySelector('#df-1458ff96-4f45-4407-af13-6cdaa8e2b745');\n",
              "          const dataTable =\n",
              "            await google.colab.kernel.invokeFunction('convertToInteractive',\n",
              "                                                     [key], {});\n",
              "          if (!dataTable) return;\n",
              "\n",
              "          const docLinkHtml = 'Like what you see? Visit the ' +\n",
              "            '<a target=\"_blank\" href=https://colab.research.google.com/notebooks/data_table.ipynb>data table notebook</a>'\n",
              "            + ' to learn more about interactive tables.';\n",
              "          element.innerHTML = '';\n",
              "          dataTable['output_type'] = 'display_data';\n",
              "          await google.colab.output.renderOutput(dataTable, element);\n",
              "          const docLink = document.createElement('div');\n",
              "          docLink.innerHTML = docLinkHtml;\n",
              "          element.appendChild(docLink);\n",
              "        }\n",
              "      </script>\n",
              "    </div>\n",
              "  </div>\n",
              "  "
            ]
          },
          "metadata": {},
          "execution_count": 10
        }
      ]
    },
    {
      "cell_type": "code",
      "source": [
        "features.Glucose"
      ],
      "metadata": {
        "colab": {
          "base_uri": "https://localhost:8080/"
        },
        "id": "4NhIo82-Id4Z",
        "outputId": "c2152bc9-9e14-428a-fa2c-e227352cdcb0"
      },
      "execution_count": 11,
      "outputs": [
        {
          "output_type": "execute_result",
          "data": {
            "text/plain": [
              "0         79\n",
              "1         80\n",
              "2         70\n",
              "3         70\n",
              "4        100\n",
              "        ... \n",
              "16964     72\n",
              "16965     84\n",
              "16966     82\n",
              "16967     83\n",
              "16968     83\n",
              "Name: Glucose, Length: 16969, dtype: int64"
            ]
          },
          "metadata": {},
          "execution_count": 11
        }
      ]
    },
    {
      "cell_type": "code",
      "source": [
        "features.Glucose.max()"
      ],
      "metadata": {
        "colab": {
          "base_uri": "https://localhost:8080/"
        },
        "id": "a3TYi0egImxV",
        "outputId": "5e8c963a-5b8b-4d2a-c36f-dabb5dd1f52d"
      },
      "execution_count": 12,
      "outputs": [
        {
          "output_type": "execute_result",
          "data": {
            "text/plain": [
              "250"
            ]
          },
          "metadata": {},
          "execution_count": 12
        }
      ]
    },
    {
      "cell_type": "code",
      "source": [
        "features.Glucose.min()"
      ],
      "metadata": {
        "colab": {
          "base_uri": "https://localhost:8080/"
        },
        "id": "nCBtIGhzIp4s",
        "outputId": "a9ac4048-7f7d-44f2-a4c0-f685be83adfa"
      },
      "execution_count": 13,
      "outputs": [
        {
          "output_type": "execute_result",
          "data": {
            "text/plain": [
              "50"
            ]
          },
          "metadata": {},
          "execution_count": 13
        }
      ]
    },
    {
      "cell_type": "code",
      "source": [
        "features.DiaOrNot.value_counts()"
      ],
      "metadata": {
        "colab": {
          "base_uri": "https://localhost:8080/"
        },
        "id": "dYH0ciBCIsee",
        "outputId": "14127f16-7a64-46cb-8cf9-d2ea609808f3"
      },
      "execution_count": 14,
      "outputs": [
        {
          "output_type": "execute_result",
          "data": {
            "text/plain": [
              "D    16641\n",
              "N      328\n",
              "Name: DiaOrNot, dtype: int64"
            ]
          },
          "metadata": {},
          "execution_count": 14
        }
      ]
    },
    {
      "cell_type": "code",
      "source": [
        "D=0\n",
        "N=0\n",
        "\n",
        "for i in range(len(features.DiaOrNot)):\n",
        "  if (features.DiaOrNot[i]) == \"D\":\n",
        "    D+=1\n",
        "  else:\n",
        "    N+=1\n",
        "\n",
        "print(D)\n",
        "print(N)"
      ],
      "metadata": {
        "colab": {
          "base_uri": "https://localhost:8080/"
        },
        "id": "HEtkfth8IyRg",
        "outputId": "d88645f2-41f3-485e-d9e7-993208afa87d"
      },
      "execution_count": 17,
      "outputs": [
        {
          "output_type": "stream",
          "name": "stdout",
          "text": [
            "16641\n",
            "328\n"
          ]
        }
      ]
    },
    {
      "cell_type": "code",
      "source": [
        "D=0\n",
        "N=0\n",
        "\n",
        "while i in range(len(features.DiaOrNot)):\n",
        "  if (features.DiaOrNot[i]) == \"D\":\n",
        "    D+=1\n",
        "  else:\n",
        "    N+=1\n",
        "\n",
        "print(D)\n",
        "print(N)"
      ],
      "metadata": {
        "colab": {
          "base_uri": "https://localhost:8080/",
          "height": 380
        },
        "id": "uEsc4WGOJCHI",
        "outputId": "444213be-9a2b-4fa9-a2d7-b8209f9dec75"
      },
      "execution_count": 18,
      "outputs": [
        {
          "output_type": "error",
          "ename": "KeyboardInterrupt",
          "evalue": "ignored",
          "traceback": [
            "\u001b[0;31m---------------------------------------------------------------------------\u001b[0m",
            "\u001b[0;31mKeyboardInterrupt\u001b[0m                         Traceback (most recent call last)",
            "\u001b[0;32m<ipython-input-18-b5910d14b789>\u001b[0m in \u001b[0;36m<module>\u001b[0;34m\u001b[0m\n\u001b[1;32m      2\u001b[0m \u001b[0mN\u001b[0m\u001b[0;34m=\u001b[0m\u001b[0;36m0\u001b[0m\u001b[0;34m\u001b[0m\u001b[0;34m\u001b[0m\u001b[0m\n\u001b[1;32m      3\u001b[0m \u001b[0;34m\u001b[0m\u001b[0m\n\u001b[0;32m----> 4\u001b[0;31m \u001b[0;32mwhile\u001b[0m \u001b[0mi\u001b[0m \u001b[0;32min\u001b[0m \u001b[0mrange\u001b[0m\u001b[0;34m(\u001b[0m\u001b[0mlen\u001b[0m\u001b[0;34m(\u001b[0m\u001b[0mfeatures\u001b[0m\u001b[0;34m.\u001b[0m\u001b[0mDiaOrNot\u001b[0m\u001b[0;34m)\u001b[0m\u001b[0;34m)\u001b[0m\u001b[0;34m:\u001b[0m\u001b[0;34m\u001b[0m\u001b[0;34m\u001b[0m\u001b[0m\n\u001b[0m\u001b[1;32m      5\u001b[0m   \u001b[0;32mif\u001b[0m \u001b[0;34m(\u001b[0m\u001b[0mfeatures\u001b[0m\u001b[0;34m.\u001b[0m\u001b[0mDiaOrNot\u001b[0m\u001b[0;34m[\u001b[0m\u001b[0mi\u001b[0m\u001b[0;34m]\u001b[0m\u001b[0;34m)\u001b[0m \u001b[0;34m==\u001b[0m \u001b[0;34m\"D\"\u001b[0m\u001b[0;34m:\u001b[0m\u001b[0;34m\u001b[0m\u001b[0;34m\u001b[0m\u001b[0m\n\u001b[1;32m      6\u001b[0m     \u001b[0mD\u001b[0m\u001b[0;34m+=\u001b[0m\u001b[0;36m1\u001b[0m\u001b[0;34m\u001b[0m\u001b[0;34m\u001b[0m\u001b[0m\n",
            "\u001b[0;32m/usr/local/lib/python3.7/dist-packages/pandas/core/generic.py\u001b[0m in \u001b[0;36m__getattr__\u001b[0;34m(self, name)\u001b[0m\n\u001b[1;32m   5482\u001b[0m             \u001b[0;32mand\u001b[0m \u001b[0mname\u001b[0m \u001b[0;32mnot\u001b[0m \u001b[0;32min\u001b[0m \u001b[0mself\u001b[0m\u001b[0;34m.\u001b[0m\u001b[0m_metadata\u001b[0m\u001b[0;34m\u001b[0m\u001b[0;34m\u001b[0m\u001b[0m\n\u001b[1;32m   5483\u001b[0m             \u001b[0;32mand\u001b[0m \u001b[0mname\u001b[0m \u001b[0;32mnot\u001b[0m \u001b[0;32min\u001b[0m \u001b[0mself\u001b[0m\u001b[0;34m.\u001b[0m\u001b[0m_accessors\u001b[0m\u001b[0;34m\u001b[0m\u001b[0;34m\u001b[0m\u001b[0m\n\u001b[0;32m-> 5484\u001b[0;31m             \u001b[0;32mand\u001b[0m \u001b[0mself\u001b[0m\u001b[0;34m.\u001b[0m\u001b[0m_info_axis\u001b[0m\u001b[0;34m.\u001b[0m\u001b[0m_can_hold_identifiers_and_holds_name\u001b[0m\u001b[0;34m(\u001b[0m\u001b[0mname\u001b[0m\u001b[0;34m)\u001b[0m\u001b[0;34m\u001b[0m\u001b[0;34m\u001b[0m\u001b[0m\n\u001b[0m\u001b[1;32m   5485\u001b[0m         ):\n\u001b[1;32m   5486\u001b[0m             \u001b[0;32mreturn\u001b[0m \u001b[0mself\u001b[0m\u001b[0;34m[\u001b[0m\u001b[0mname\u001b[0m\u001b[0;34m]\u001b[0m\u001b[0;34m\u001b[0m\u001b[0;34m\u001b[0m\u001b[0m\n",
            "\u001b[0;32m/usr/local/lib/python3.7/dist-packages/pandas/core/indexes/base.py\u001b[0m in \u001b[0;36m_can_hold_identifiers_and_holds_name\u001b[0;34m(self, name)\u001b[0m\n\u001b[1;32m   4646\u001b[0m         \u001b[0mhttps\u001b[0m\u001b[0;34m:\u001b[0m\u001b[0;34m//\u001b[0m\u001b[0mgithub\u001b[0m\u001b[0;34m.\u001b[0m\u001b[0mcom\u001b[0m\u001b[0;34m/\u001b[0m\u001b[0mpandas\u001b[0m\u001b[0;34m-\u001b[0m\u001b[0mdev\u001b[0m\u001b[0;34m/\u001b[0m\u001b[0mpandas\u001b[0m\u001b[0;34m/\u001b[0m\u001b[0missues\u001b[0m\u001b[0;34m/\u001b[0m\u001b[0;36m19764\u001b[0m\u001b[0;34m\u001b[0m\u001b[0;34m\u001b[0m\u001b[0m\n\u001b[1;32m   4647\u001b[0m         \"\"\"\n\u001b[0;32m-> 4648\u001b[0;31m         \u001b[0;32mif\u001b[0m \u001b[0mself\u001b[0m\u001b[0;34m.\u001b[0m\u001b[0mis_object\u001b[0m\u001b[0;34m(\u001b[0m\u001b[0;34m)\u001b[0m \u001b[0;32mor\u001b[0m \u001b[0mself\u001b[0m\u001b[0;34m.\u001b[0m\u001b[0mis_categorical\u001b[0m\u001b[0;34m(\u001b[0m\u001b[0;34m)\u001b[0m\u001b[0;34m:\u001b[0m\u001b[0;34m\u001b[0m\u001b[0;34m\u001b[0m\u001b[0m\n\u001b[0m\u001b[1;32m   4649\u001b[0m             \u001b[0;32mreturn\u001b[0m \u001b[0mname\u001b[0m \u001b[0;32min\u001b[0m \u001b[0mself\u001b[0m\u001b[0;34m\u001b[0m\u001b[0;34m\u001b[0m\u001b[0m\n\u001b[1;32m   4650\u001b[0m         \u001b[0;32mreturn\u001b[0m \u001b[0;32mFalse\u001b[0m\u001b[0;34m\u001b[0m\u001b[0;34m\u001b[0m\u001b[0m\n",
            "\u001b[0;32m/usr/local/lib/python3.7/dist-packages/pandas/core/indexes/base.py\u001b[0m in \u001b[0;36mis_object\u001b[0;34m(self)\u001b[0m\n\u001b[1;32m   2255\u001b[0m         \u001b[0;32mFalse\u001b[0m\u001b[0;34m\u001b[0m\u001b[0;34m\u001b[0m\u001b[0m\n\u001b[1;32m   2256\u001b[0m         \"\"\"\n\u001b[0;32m-> 2257\u001b[0;31m         \u001b[0;32mreturn\u001b[0m \u001b[0mis_object_dtype\u001b[0m\u001b[0;34m(\u001b[0m\u001b[0mself\u001b[0m\u001b[0;34m.\u001b[0m\u001b[0mdtype\u001b[0m\u001b[0;34m)\u001b[0m\u001b[0;34m\u001b[0m\u001b[0;34m\u001b[0m\u001b[0m\n\u001b[0m\u001b[1;32m   2258\u001b[0m \u001b[0;34m\u001b[0m\u001b[0m\n\u001b[1;32m   2259\u001b[0m     \u001b[0;34m@\u001b[0m\u001b[0mfinal\u001b[0m\u001b[0;34m\u001b[0m\u001b[0;34m\u001b[0m\u001b[0m\n",
            "\u001b[0;32m/usr/local/lib/python3.7/dist-packages/pandas/core/dtypes/common.py\u001b[0m in \u001b[0;36mis_object_dtype\u001b[0;34m(arr_or_dtype)\u001b[0m\n\u001b[1;32m    185\u001b[0m     \u001b[0;32mFalse\u001b[0m\u001b[0;34m\u001b[0m\u001b[0;34m\u001b[0m\u001b[0m\n\u001b[1;32m    186\u001b[0m     \"\"\"\n\u001b[0;32m--> 187\u001b[0;31m     \u001b[0;32mreturn\u001b[0m \u001b[0m_is_dtype_type\u001b[0m\u001b[0;34m(\u001b[0m\u001b[0marr_or_dtype\u001b[0m\u001b[0;34m,\u001b[0m \u001b[0mclasses\u001b[0m\u001b[0;34m(\u001b[0m\u001b[0mnp\u001b[0m\u001b[0;34m.\u001b[0m\u001b[0mobject_\u001b[0m\u001b[0;34m)\u001b[0m\u001b[0;34m)\u001b[0m\u001b[0;34m\u001b[0m\u001b[0;34m\u001b[0m\u001b[0m\n\u001b[0m\u001b[1;32m    188\u001b[0m \u001b[0;34m\u001b[0m\u001b[0m\n\u001b[1;32m    189\u001b[0m \u001b[0;34m\u001b[0m\u001b[0m\n",
            "\u001b[0;32m/usr/local/lib/python3.7/dist-packages/pandas/core/dtypes/common.py\u001b[0m in \u001b[0;36mclasses\u001b[0;34m(*klasses)\u001b[0m\n\u001b[1;32m    142\u001b[0m \u001b[0;34m\u001b[0m\u001b[0m\n\u001b[1;32m    143\u001b[0m \u001b[0;34m\u001b[0m\u001b[0m\n\u001b[0;32m--> 144\u001b[0;31m \u001b[0;32mdef\u001b[0m \u001b[0mclasses\u001b[0m\u001b[0;34m(\u001b[0m\u001b[0;34m*\u001b[0m\u001b[0mklasses\u001b[0m\u001b[0;34m)\u001b[0m \u001b[0;34m->\u001b[0m \u001b[0mCallable\u001b[0m\u001b[0;34m:\u001b[0m\u001b[0;34m\u001b[0m\u001b[0;34m\u001b[0m\u001b[0m\n\u001b[0m\u001b[1;32m    145\u001b[0m     \u001b[0;34m\"\"\"evaluate if the tipo is a subclass of the klasses\"\"\"\u001b[0m\u001b[0;34m\u001b[0m\u001b[0;34m\u001b[0m\u001b[0m\n\u001b[1;32m    146\u001b[0m     \u001b[0;32mreturn\u001b[0m \u001b[0;32mlambda\u001b[0m \u001b[0mtipo\u001b[0m\u001b[0;34m:\u001b[0m \u001b[0missubclass\u001b[0m\u001b[0;34m(\u001b[0m\u001b[0mtipo\u001b[0m\u001b[0;34m,\u001b[0m \u001b[0mklasses\u001b[0m\u001b[0;34m)\u001b[0m\u001b[0;34m\u001b[0m\u001b[0;34m\u001b[0m\u001b[0m\n",
            "\u001b[0;31mKeyboardInterrupt\u001b[0m: "
          ]
        }
      ]
    },
    {
      "cell_type": "code",
      "source": [
        "from sklearn.model_selection import train_test_split"
      ],
      "metadata": {
        "id": "33ToUezmJKY9"
      },
      "execution_count": 22,
      "outputs": []
    },
    {
      "cell_type": "code",
      "source": [
        "X = features.drop(columns = {'Glucose','DiaOrNot'})"
      ],
      "metadata": {
        "id": "mk1WEL5jJXPT"
      },
      "execution_count": 25,
      "outputs": []
    },
    {
      "cell_type": "code",
      "source": [
        "X"
      ],
      "metadata": {
        "colab": {
          "base_uri": "https://localhost:8080/",
          "height": 424
        },
        "id": "6R6NGntlJm4D",
        "outputId": "7b0cd2f8-1984-4726-a23c-d760ae8edc88"
      },
      "execution_count": 26,
      "outputs": [
        {
          "output_type": "execute_result",
          "data": {
            "text/plain": [
              "       Age  Diastolic_BP  Systolic_BP  Heart Rate  Body Temperature  SPO2  \\\n",
              "0        9            73          118          98         98.300707    99   \n",
              "1        9            73          119         102         98.300707    94   \n",
              "2        9            76          110          81         98.300707    98   \n",
              "3        9            78          115          96         98.300707    96   \n",
              "4       66            96          144          92         97.807052    98   \n",
              "...    ...           ...          ...         ...               ...   ...   \n",
              "16964    9            87          127          90         96.842657    97   \n",
              "16965    9            79          117          80         97.869454    98   \n",
              "16966    9            82          116          93         96.766282    98   \n",
              "16967    9            86          128          91         98.941036    98   \n",
              "16968    9            85          117          79         97.570685    97   \n",
              "\n",
              "       Sweating  Shivering  \n",
              "0             0          0  \n",
              "1             1          0  \n",
              "2             1          0  \n",
              "3             1          0  \n",
              "4             0          0  \n",
              "...         ...        ...  \n",
              "16964         0          0  \n",
              "16965         0          0  \n",
              "16966         0          0  \n",
              "16967         0          0  \n",
              "16968         0          0  \n",
              "\n",
              "[16969 rows x 8 columns]"
            ],
            "text/html": [
              "\n",
              "  <div id=\"df-52c4ba7d-12df-4a3f-b5ac-3f388f0da62f\">\n",
              "    <div class=\"colab-df-container\">\n",
              "      <div>\n",
              "<style scoped>\n",
              "    .dataframe tbody tr th:only-of-type {\n",
              "        vertical-align: middle;\n",
              "    }\n",
              "\n",
              "    .dataframe tbody tr th {\n",
              "        vertical-align: top;\n",
              "    }\n",
              "\n",
              "    .dataframe thead th {\n",
              "        text-align: right;\n",
              "    }\n",
              "</style>\n",
              "<table border=\"1\" class=\"dataframe\">\n",
              "  <thead>\n",
              "    <tr style=\"text-align: right;\">\n",
              "      <th></th>\n",
              "      <th>Age</th>\n",
              "      <th>Diastolic_BP</th>\n",
              "      <th>Systolic_BP</th>\n",
              "      <th>Heart Rate</th>\n",
              "      <th>Body Temperature</th>\n",
              "      <th>SPO2</th>\n",
              "      <th>Sweating</th>\n",
              "      <th>Shivering</th>\n",
              "    </tr>\n",
              "  </thead>\n",
              "  <tbody>\n",
              "    <tr>\n",
              "      <th>0</th>\n",
              "      <td>9</td>\n",
              "      <td>73</td>\n",
              "      <td>118</td>\n",
              "      <td>98</td>\n",
              "      <td>98.300707</td>\n",
              "      <td>99</td>\n",
              "      <td>0</td>\n",
              "      <td>0</td>\n",
              "    </tr>\n",
              "    <tr>\n",
              "      <th>1</th>\n",
              "      <td>9</td>\n",
              "      <td>73</td>\n",
              "      <td>119</td>\n",
              "      <td>102</td>\n",
              "      <td>98.300707</td>\n",
              "      <td>94</td>\n",
              "      <td>1</td>\n",
              "      <td>0</td>\n",
              "    </tr>\n",
              "    <tr>\n",
              "      <th>2</th>\n",
              "      <td>9</td>\n",
              "      <td>76</td>\n",
              "      <td>110</td>\n",
              "      <td>81</td>\n",
              "      <td>98.300707</td>\n",
              "      <td>98</td>\n",
              "      <td>1</td>\n",
              "      <td>0</td>\n",
              "    </tr>\n",
              "    <tr>\n",
              "      <th>3</th>\n",
              "      <td>9</td>\n",
              "      <td>78</td>\n",
              "      <td>115</td>\n",
              "      <td>96</td>\n",
              "      <td>98.300707</td>\n",
              "      <td>96</td>\n",
              "      <td>1</td>\n",
              "      <td>0</td>\n",
              "    </tr>\n",
              "    <tr>\n",
              "      <th>4</th>\n",
              "      <td>66</td>\n",
              "      <td>96</td>\n",
              "      <td>144</td>\n",
              "      <td>92</td>\n",
              "      <td>97.807052</td>\n",
              "      <td>98</td>\n",
              "      <td>0</td>\n",
              "      <td>0</td>\n",
              "    </tr>\n",
              "    <tr>\n",
              "      <th>...</th>\n",
              "      <td>...</td>\n",
              "      <td>...</td>\n",
              "      <td>...</td>\n",
              "      <td>...</td>\n",
              "      <td>...</td>\n",
              "      <td>...</td>\n",
              "      <td>...</td>\n",
              "      <td>...</td>\n",
              "    </tr>\n",
              "    <tr>\n",
              "      <th>16964</th>\n",
              "      <td>9</td>\n",
              "      <td>87</td>\n",
              "      <td>127</td>\n",
              "      <td>90</td>\n",
              "      <td>96.842657</td>\n",
              "      <td>97</td>\n",
              "      <td>0</td>\n",
              "      <td>0</td>\n",
              "    </tr>\n",
              "    <tr>\n",
              "      <th>16965</th>\n",
              "      <td>9</td>\n",
              "      <td>79</td>\n",
              "      <td>117</td>\n",
              "      <td>80</td>\n",
              "      <td>97.869454</td>\n",
              "      <td>98</td>\n",
              "      <td>0</td>\n",
              "      <td>0</td>\n",
              "    </tr>\n",
              "    <tr>\n",
              "      <th>16966</th>\n",
              "      <td>9</td>\n",
              "      <td>82</td>\n",
              "      <td>116</td>\n",
              "      <td>93</td>\n",
              "      <td>96.766282</td>\n",
              "      <td>98</td>\n",
              "      <td>0</td>\n",
              "      <td>0</td>\n",
              "    </tr>\n",
              "    <tr>\n",
              "      <th>16967</th>\n",
              "      <td>9</td>\n",
              "      <td>86</td>\n",
              "      <td>128</td>\n",
              "      <td>91</td>\n",
              "      <td>98.941036</td>\n",
              "      <td>98</td>\n",
              "      <td>0</td>\n",
              "      <td>0</td>\n",
              "    </tr>\n",
              "    <tr>\n",
              "      <th>16968</th>\n",
              "      <td>9</td>\n",
              "      <td>85</td>\n",
              "      <td>117</td>\n",
              "      <td>79</td>\n",
              "      <td>97.570685</td>\n",
              "      <td>97</td>\n",
              "      <td>0</td>\n",
              "      <td>0</td>\n",
              "    </tr>\n",
              "  </tbody>\n",
              "</table>\n",
              "<p>16969 rows × 8 columns</p>\n",
              "</div>\n",
              "      <button class=\"colab-df-convert\" onclick=\"convertToInteractive('df-52c4ba7d-12df-4a3f-b5ac-3f388f0da62f')\"\n",
              "              title=\"Convert this dataframe to an interactive table.\"\n",
              "              style=\"display:none;\">\n",
              "        \n",
              "  <svg xmlns=\"http://www.w3.org/2000/svg\" height=\"24px\"viewBox=\"0 0 24 24\"\n",
              "       width=\"24px\">\n",
              "    <path d=\"M0 0h24v24H0V0z\" fill=\"none\"/>\n",
              "    <path d=\"M18.56 5.44l.94 2.06.94-2.06 2.06-.94-2.06-.94-.94-2.06-.94 2.06-2.06.94zm-11 1L8.5 8.5l.94-2.06 2.06-.94-2.06-.94L8.5 2.5l-.94 2.06-2.06.94zm10 10l.94 2.06.94-2.06 2.06-.94-2.06-.94-.94-2.06-.94 2.06-2.06.94z\"/><path d=\"M17.41 7.96l-1.37-1.37c-.4-.4-.92-.59-1.43-.59-.52 0-1.04.2-1.43.59L10.3 9.45l-7.72 7.72c-.78.78-.78 2.05 0 2.83L4 21.41c.39.39.9.59 1.41.59.51 0 1.02-.2 1.41-.59l7.78-7.78 2.81-2.81c.8-.78.8-2.07 0-2.86zM5.41 20L4 18.59l7.72-7.72 1.47 1.35L5.41 20z\"/>\n",
              "  </svg>\n",
              "      </button>\n",
              "      \n",
              "  <style>\n",
              "    .colab-df-container {\n",
              "      display:flex;\n",
              "      flex-wrap:wrap;\n",
              "      gap: 12px;\n",
              "    }\n",
              "\n",
              "    .colab-df-convert {\n",
              "      background-color: #E8F0FE;\n",
              "      border: none;\n",
              "      border-radius: 50%;\n",
              "      cursor: pointer;\n",
              "      display: none;\n",
              "      fill: #1967D2;\n",
              "      height: 32px;\n",
              "      padding: 0 0 0 0;\n",
              "      width: 32px;\n",
              "    }\n",
              "\n",
              "    .colab-df-convert:hover {\n",
              "      background-color: #E2EBFA;\n",
              "      box-shadow: 0px 1px 2px rgba(60, 64, 67, 0.3), 0px 1px 3px 1px rgba(60, 64, 67, 0.15);\n",
              "      fill: #174EA6;\n",
              "    }\n",
              "\n",
              "    [theme=dark] .colab-df-convert {\n",
              "      background-color: #3B4455;\n",
              "      fill: #D2E3FC;\n",
              "    }\n",
              "\n",
              "    [theme=dark] .colab-df-convert:hover {\n",
              "      background-color: #434B5C;\n",
              "      box-shadow: 0px 1px 3px 1px rgba(0, 0, 0, 0.15);\n",
              "      filter: drop-shadow(0px 1px 2px rgba(0, 0, 0, 0.3));\n",
              "      fill: #FFFFFF;\n",
              "    }\n",
              "  </style>\n",
              "\n",
              "      <script>\n",
              "        const buttonEl =\n",
              "          document.querySelector('#df-52c4ba7d-12df-4a3f-b5ac-3f388f0da62f button.colab-df-convert');\n",
              "        buttonEl.style.display =\n",
              "          google.colab.kernel.accessAllowed ? 'block' : 'none';\n",
              "\n",
              "        async function convertToInteractive(key) {\n",
              "          const element = document.querySelector('#df-52c4ba7d-12df-4a3f-b5ac-3f388f0da62f');\n",
              "          const dataTable =\n",
              "            await google.colab.kernel.invokeFunction('convertToInteractive',\n",
              "                                                     [key], {});\n",
              "          if (!dataTable) return;\n",
              "\n",
              "          const docLinkHtml = 'Like what you see? Visit the ' +\n",
              "            '<a target=\"_blank\" href=https://colab.research.google.com/notebooks/data_table.ipynb>data table notebook</a>'\n",
              "            + ' to learn more about interactive tables.';\n",
              "          element.innerHTML = '';\n",
              "          dataTable['output_type'] = 'display_data';\n",
              "          await google.colab.output.renderOutput(dataTable, element);\n",
              "          const docLink = document.createElement('div');\n",
              "          docLink.innerHTML = docLinkHtml;\n",
              "          element.appendChild(docLink);\n",
              "        }\n",
              "      </script>\n",
              "    </div>\n",
              "  </div>\n",
              "  "
            ]
          },
          "metadata": {},
          "execution_count": 26
        }
      ]
    },
    {
      "cell_type": "code",
      "source": [
        "Y = features.Glucose"
      ],
      "metadata": {
        "id": "OmxXY3kKJ2Bf"
      },
      "execution_count": 27,
      "outputs": []
    },
    {
      "cell_type": "code",
      "source": [
        "Y"
      ],
      "metadata": {
        "colab": {
          "base_uri": "https://localhost:8080/"
        },
        "id": "3uKu0bYmJ3zi",
        "outputId": "fac88df3-ba26-4c6a-f62e-7423132a9dd0"
      },
      "execution_count": 28,
      "outputs": [
        {
          "output_type": "execute_result",
          "data": {
            "text/plain": [
              "0         79\n",
              "1         80\n",
              "2         70\n",
              "3         70\n",
              "4        100\n",
              "        ... \n",
              "16964     72\n",
              "16965     84\n",
              "16966     82\n",
              "16967     83\n",
              "16968     83\n",
              "Name: Glucose, Length: 16969, dtype: int64"
            ]
          },
          "metadata": {},
          "execution_count": 28
        }
      ]
    },
    {
      "cell_type": "code",
      "source": [
        "from sklearn.preprocessing import StandardScaler\n",
        "scalar = StandardScaler()"
      ],
      "metadata": {
        "id": "ai9K3QebOIex"
      },
      "execution_count": 39,
      "outputs": []
    },
    {
      "cell_type": "code",
      "source": [
        "scalar.fit(X)"
      ],
      "metadata": {
        "colab": {
          "base_uri": "https://localhost:8080/"
        },
        "id": "DKyKw7ZeOoi0",
        "outputId": "797ae096-e942-4575-db3a-6ea99779add5"
      },
      "execution_count": 40,
      "outputs": [
        {
          "output_type": "execute_result",
          "data": {
            "text/plain": [
              "StandardScaler()"
            ]
          },
          "metadata": {},
          "execution_count": 40
        }
      ]
    },
    {
      "cell_type": "code",
      "source": [
        "standarized_data = scalar.transform(X)"
      ],
      "metadata": {
        "id": "LA7KjVHrPEmX"
      },
      "execution_count": 41,
      "outputs": []
    },
    {
      "cell_type": "code",
      "source": [
        "X = standarized_data"
      ],
      "metadata": {
        "id": "A-_TXZ9yPOSQ"
      },
      "execution_count": 43,
      "outputs": []
    },
    {
      "cell_type": "code",
      "source": [
        "X"
      ],
      "metadata": {
        "colab": {
          "base_uri": "https://localhost:8080/"
        },
        "id": "hc93bKC2PSFx",
        "outputId": "f5e8a422-b02a-45cc-ad25-970218a2f3a4"
      },
      "execution_count": 44,
      "outputs": [
        {
          "output_type": "execute_result",
          "data": {
            "text/plain": [
              "array([[-0.85944848, -0.57634595, -0.02430669, ...,  1.90605148,\n",
              "        -0.37222763, -0.41274275],\n",
              "       [-0.85944848, -0.57634595,  0.10556114, ..., -3.98556343,\n",
              "         2.68652813, -0.41274275],\n",
              "       [-0.85944848, -0.16205559, -1.06324937, ...,  0.7277285 ,\n",
              "         2.68652813, -0.41274275],\n",
              "       ...,\n",
              "       [-0.85944848,  0.66652513, -0.28404236, ...,  0.7277285 ,\n",
              "        -0.37222763, -0.41274275],\n",
              "       [-0.85944848,  1.21891228,  1.27437166, ...,  0.7277285 ,\n",
              "        -0.37222763, -0.41274275],\n",
              "       [-0.85944848,  1.08081549, -0.15417453, ..., -0.45059449,\n",
              "        -0.37222763, -0.41274275]])"
            ]
          },
          "metadata": {},
          "execution_count": 44
        }
      ]
    },
    {
      "cell_type": "code",
      "source": [
        "Y"
      ],
      "metadata": {
        "colab": {
          "base_uri": "https://localhost:8080/"
        },
        "id": "WueSg1d-PUdr",
        "outputId": "84fb471b-d5f3-49dd-d514-d8135d5a90d3"
      },
      "execution_count": 45,
      "outputs": [
        {
          "output_type": "execute_result",
          "data": {
            "text/plain": [
              "0         79\n",
              "1         80\n",
              "2         70\n",
              "3         70\n",
              "4        100\n",
              "        ... \n",
              "16964     72\n",
              "16965     84\n",
              "16966     82\n",
              "16967     83\n",
              "16968     83\n",
              "Name: Glucose, Length: 16969, dtype: int64"
            ]
          },
          "metadata": {},
          "execution_count": 45
        }
      ]
    },
    {
      "cell_type": "code",
      "source": [
        "X_train, X_test, Y_train, Y_test = train_test_split(X,Y, test_size=0.25, stratify=Y)"
      ],
      "metadata": {
        "id": "Ea6P9aV4PVV8"
      },
      "execution_count": 46,
      "outputs": []
    },
    {
      "cell_type": "code",
      "source": [
        "X_train"
      ],
      "metadata": {
        "colab": {
          "base_uri": "https://localhost:8080/"
        },
        "id": "W5mudeKFPlqa",
        "outputId": "25be78ba-b759-4be2-cd9a-ded619f30b64"
      },
      "execution_count": 47,
      "outputs": [
        {
          "output_type": "execute_result",
          "data": {
            "text/plain": [
              "array([[-0.85944848,  0.25223477,  0.75490032, ...,  0.7277285 ,\n",
              "        -0.37222763, -0.41274275],\n",
              "       [-0.66402034, -2.37160418, -0.4139102 , ...,  0.7277285 ,\n",
              "        -0.37222763,  2.42281664],\n",
              "       [-0.85944848, -0.0239588 ,  0.36529681, ...,  0.7277285 ,\n",
              "        -0.37222763, -0.41274275],\n",
              "       ...,\n",
              "       [-0.62493471, -0.16205559, -0.54377803, ...,  0.7277285 ,\n",
              "        -0.37222763, -0.41274275],\n",
              "       [-0.66402034, -1.26682989, -1.19311721, ..., -1.62891747,\n",
              "        -0.37222763, -0.41274275],\n",
              "       [-0.85944848, -0.57634595,  1.4042395 , ...,  1.90605148,\n",
              "        -0.37222763, -0.41274275]])"
            ]
          },
          "metadata": {},
          "execution_count": 47
        }
      ]
    },
    {
      "cell_type": "code",
      "source": [
        "X_test"
      ],
      "metadata": {
        "colab": {
          "base_uri": "https://localhost:8080/"
        },
        "id": "6x1GK3FGPoqV",
        "outputId": "84a15abf-b6bd-46c5-96b2-9ae53bf0efff"
      },
      "execution_count": 48,
      "outputs": [
        {
          "output_type": "execute_result",
          "data": {
            "text/plain": [
              "array([[-0.85944848, -1.1287331 ,  0.10556114, ..., -0.45059449,\n",
              "         2.68652813,  2.42281664],\n",
              "       [ 0.58671975,  1.08081549, -1.06324937, ...,  1.90605148,\n",
              "        -0.37222763, -0.41274275],\n",
              "       [-0.4685922 ,  1.08081549,  1.27437166, ...,  1.90605148,\n",
              "        -0.37222763, -0.41274275],\n",
              "       ...,\n",
              "       [-0.4685922 , -0.85253953, -1.06324937, ..., -0.45059449,\n",
              "        -0.37222763, -0.41274275],\n",
              "       [ 0.9384904 , -0.30015238,  0.10556114, ..., -1.62891747,\n",
              "        -0.37222763, -0.41274275],\n",
              "       [-0.85944848,  1.35700907,  0.62503248, ..., -0.45059449,\n",
              "        -0.37222763, -0.41274275]])"
            ]
          },
          "metadata": {},
          "execution_count": 48
        }
      ]
    },
    {
      "cell_type": "code",
      "source": [
        "Y_train"
      ],
      "metadata": {
        "colab": {
          "base_uri": "https://localhost:8080/"
        },
        "id": "Nd3Amg9GPpVe",
        "outputId": "cff8fcea-7264-4ba1-cefd-59b19534e330"
      },
      "execution_count": 49,
      "outputs": [
        {
          "output_type": "execute_result",
          "data": {
            "text/plain": [
              "14964     71\n",
              "467       51\n",
              "16083     75\n",
              "3748      68\n",
              "11996    117\n",
              "        ... \n",
              "16197     84\n",
              "8994      98\n",
              "13090    125\n",
              "4572      68\n",
              "7918      91\n",
              "Name: Glucose, Length: 12726, dtype: int64"
            ]
          },
          "metadata": {},
          "execution_count": 49
        }
      ]
    },
    {
      "cell_type": "code",
      "source": [
        "Y_test"
      ],
      "metadata": {
        "colab": {
          "base_uri": "https://localhost:8080/"
        },
        "id": "NJhlnWOUPp3o",
        "outputId": "20cfc950-a3a3-4e52-c817-e7070ed08668"
      },
      "execution_count": 50,
      "outputs": [
        {
          "output_type": "execute_result",
          "data": {
            "text/plain": [
              "3952      68\n",
              "9063      98\n",
              "13704    129\n",
              "10898    110\n",
              "13088    125\n",
              "        ... \n",
              "2429      65\n",
              "7892      90\n",
              "7034      85\n",
              "1880      63\n",
              "6690      83\n",
              "Name: Glucose, Length: 4243, dtype: int64"
            ]
          },
          "metadata": {},
          "execution_count": 50
        }
      ]
    },
    {
      "cell_type": "code",
      "source": [
        "from sklearn import svm"
      ],
      "metadata": {
        "id": "Av9EAXDaPqIO"
      },
      "execution_count": 51,
      "outputs": []
    },
    {
      "cell_type": "code",
      "source": [
        "svm = svm.SVC(kernel = 'linear')"
      ],
      "metadata": {
        "id": "y7_7adTMPuCt"
      },
      "execution_count": 52,
      "outputs": []
    },
    {
      "cell_type": "markdown",
      "source": [
        "Work with training data"
      ],
      "metadata": {
        "id": "73KI1A2_P56z"
      }
    },
    {
      "cell_type": "code",
      "source": [
        "svm.fit(X_train,Y_train)"
      ],
      "metadata": {
        "colab": {
          "base_uri": "https://localhost:8080/"
        },
        "id": "5TJHA870P1dy",
        "outputId": "87c98dc6-9866-4b26-97f7-40891783763d"
      },
      "execution_count": 53,
      "outputs": [
        {
          "output_type": "execute_result",
          "data": {
            "text/plain": [
              "SVC(kernel='linear')"
            ]
          },
          "metadata": {},
          "execution_count": 53
        }
      ]
    },
    {
      "cell_type": "code",
      "source": [
        "Train_Predict = svm.predict(X_train)"
      ],
      "metadata": {
        "id": "0pTv91JAP4MN"
      },
      "execution_count": 55,
      "outputs": []
    },
    {
      "cell_type": "code",
      "source": [
        "from sklearn.metrics import accuracy_score"
      ],
      "metadata": {
        "id": "kByXvxtDP_mQ"
      },
      "execution_count": 58,
      "outputs": []
    },
    {
      "cell_type": "code",
      "source": [
        "Train_Acc = accuracy_score(Train_Predict, Y_train)"
      ],
      "metadata": {
        "id": "-IImpT08QP5M"
      },
      "execution_count": 74,
      "outputs": []
    },
    {
      "cell_type": "code",
      "source": [
        "Train_Acc = \"{:.4f}\".format(Train_Acc*100)\n",
        "print(Train_Acc)"
      ],
      "metadata": {
        "colab": {
          "base_uri": "https://localhost:8080/"
        },
        "id": "QMZq8K7yQcke",
        "outputId": "51d2d1cc-7bb5-4c5e-c848-680141ef8fd0"
      },
      "execution_count": 76,
      "outputs": [
        {
          "output_type": "stream",
          "name": "stdout",
          "text": [
            "18.4818\n"
          ]
        }
      ]
    },
    {
      "cell_type": "markdown",
      "source": [
        "Work with Test Data"
      ],
      "metadata": {
        "id": "OmBO4vgjQmIX"
      }
    },
    {
      "cell_type": "code",
      "source": [
        "svm = svm.fit(X_test, Y_test)"
      ],
      "metadata": {
        "id": "JyDwJDg0Qd4x"
      },
      "execution_count": 61,
      "outputs": []
    },
    {
      "cell_type": "code",
      "source": [
        "Test_Predict = svm.predict(X_test)"
      ],
      "metadata": {
        "id": "kyqq5emIQtwy"
      },
      "execution_count": 62,
      "outputs": []
    },
    {
      "cell_type": "code",
      "source": [
        "Test_Acc = accuracy_score(Test_Predict,Y_test)"
      ],
      "metadata": {
        "id": "jBfK23V0Q4tv"
      },
      "execution_count": 80,
      "outputs": []
    },
    {
      "cell_type": "code",
      "source": [
        "Test_Acc = \"{:.4f}\".format(Test_Acc*100)\n",
        "print(Test_Acc)"
      ],
      "metadata": {
        "colab": {
          "base_uri": "https://localhost:8080/"
        },
        "id": "yGlN3Bi1Q99y",
        "outputId": "2f1a4610-1b79-49a1-baa0-27a105ab3735"
      },
      "execution_count": 81,
      "outputs": [
        {
          "output_type": "stream",
          "name": "stdout",
          "text": [
            "19.6323\n"
          ]
        }
      ]
    },
    {
      "cell_type": "code",
      "source": [
        "print(\"Testing Accuracy is {a}% & Trainig Accuracy is {b}%\" .format(a= Train_Acc, b = Test_Acc))"
      ],
      "metadata": {
        "colab": {
          "base_uri": "https://localhost:8080/"
        },
        "id": "BpRkw3MUREJ9",
        "outputId": "bb3abe9a-0afc-41c4-aaaa-3ec0663ff439"
      },
      "execution_count": 83,
      "outputs": [
        {
          "output_type": "stream",
          "name": "stdout",
          "text": [
            "Testing Accuracy is 18.4818% & Trainig Accuracy is 19.6323%\n"
          ]
        }
      ]
    },
    {
      "cell_type": "markdown",
      "source": [
        "Now, test with data"
      ],
      "metadata": {
        "id": "UNbijxg9SNdQ"
      }
    },
    {
      "cell_type": "code",
      "source": [
        "# Check = (9,84,110,94,98.64998113,98,0,0)\n",
        "Check = (9, 75,125,92,98.14764129,98,0,0)"
      ],
      "metadata": {
        "id": "ieDG2_b8RXxl"
      },
      "execution_count": 102,
      "outputs": []
    },
    {
      "cell_type": "code",
      "source": [
        "Array = np.asarray(Check)\n",
        "Array"
      ],
      "metadata": {
        "colab": {
          "base_uri": "https://localhost:8080/"
        },
        "id": "xNWYiUMiScUB",
        "outputId": "561e6ddc-c523-4711-cef9-3c5446da8d0a"
      },
      "execution_count": 103,
      "outputs": [
        {
          "output_type": "execute_result",
          "data": {
            "text/plain": [
              "array([  9.        ,  75.        , 125.        ,  92.        ,\n",
              "        98.14764129,  98.        ,   0.        ,   0.        ])"
            ]
          },
          "metadata": {},
          "execution_count": 103
        }
      ]
    },
    {
      "cell_type": "code",
      "source": [
        "Reshape = Array.reshape(1,-1)"
      ],
      "metadata": {
        "id": "Lvt2KFomSjQI"
      },
      "execution_count": 104,
      "outputs": []
    },
    {
      "cell_type": "code",
      "source": [
        "Reshape"
      ],
      "metadata": {
        "colab": {
          "base_uri": "https://localhost:8080/"
        },
        "id": "IeEsey8dSq8k",
        "outputId": "98464575-a0a0-4d84-8dc1-46c656fb8b32"
      },
      "execution_count": 105,
      "outputs": [
        {
          "output_type": "execute_result",
          "data": {
            "text/plain": [
              "array([[  9.        ,  75.        , 125.        ,  92.        ,\n",
              "         98.14764129,  98.        ,   0.        ,   0.        ]])"
            ]
          },
          "metadata": {},
          "execution_count": 105
        }
      ]
    },
    {
      "cell_type": "code",
      "source": [
        "Transform = scalar.transform(Reshape)\n",
        "Transform"
      ],
      "metadata": {
        "colab": {
          "base_uri": "https://localhost:8080/"
        },
        "id": "_xMuVkKKS9IX",
        "outputId": "e88041de-f5db-464c-ab41-bc4db5eefc91"
      },
      "execution_count": 106,
      "outputs": [
        {
          "output_type": "stream",
          "name": "stderr",
          "text": [
            "/usr/local/lib/python3.7/dist-packages/sklearn/base.py:451: UserWarning: X does not have valid feature names, but StandardScaler was fitted with feature names\n",
            "  \"X does not have valid feature names, but\"\n"
          ]
        },
        {
          "output_type": "execute_result",
          "data": {
            "text/plain": [
              "array([[-0.85944848, -0.30015238,  0.88476815,  0.04570921,  0.97291376,\n",
              "         0.7277285 , -0.37222763, -0.41274275]])"
            ]
          },
          "metadata": {},
          "execution_count": 106
        }
      ]
    },
    {
      "cell_type": "code",
      "source": [
        "Output = svm.predict(Transform)"
      ],
      "metadata": {
        "id": "fK5B7MlwTF0R"
      },
      "execution_count": 107,
      "outputs": []
    },
    {
      "cell_type": "code",
      "source": [
        "print(\"Glucose level is\", float(Output))"
      ],
      "metadata": {
        "colab": {
          "base_uri": "https://localhost:8080/"
        },
        "id": "t_sSnik2TNkf",
        "outputId": "194d122e-bc75-41bd-85a2-6c0343b274bc"
      },
      "execution_count": 108,
      "outputs": [
        {
          "output_type": "stream",
          "name": "stdout",
          "text": [
            "Glucose level is 76.0\n"
          ]
        }
      ]
    },
    {
      "cell_type": "code",
      "source": [],
      "metadata": {
        "id": "ibnTExDkTOP-"
      },
      "execution_count": null,
      "outputs": []
    }
  ]
}